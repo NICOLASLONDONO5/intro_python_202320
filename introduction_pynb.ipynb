{
  "nbformat": 4,
  "nbformat_minor": 0,
  "metadata": {
    "colab": {
      "provenance": [],
      "authorship_tag": "ABX9TyOJcgtMYkOngB6BEYVFcqY7",
      "include_colab_link": true
    },
    "kernelspec": {
      "name": "python3",
      "display_name": "Python 3"
    },
    "language_info": {
      "name": "python"
    }
  },
  "cells": [
    {
      "cell_type": "markdown",
      "metadata": {
        "id": "view-in-github",
        "colab_type": "text"
      },
      "source": [
        "<a href=\"https://colab.research.google.com/github/NICOLASLONDONO5/intro_python_202320/blob/main/introduction_pynb.ipynb\" target=\"_parent\"><img src=\"https://colab.research.google.com/assets/colab-badge.svg\" alt=\"Open In Colab\"/></a>"
      ]
    },
    {
      "cell_type": "markdown",
      "source": [
        "# Introduccion a python\n",
        "## Curso de programacion y algoritmia UPB 202320\n",
        "- Nombre: Nicolas Londoño Calle\n",
        "- ID: 501355\n",
        "- Email: nicolas.londonoc@upb.edu.co\n",
        "\n",
        "Esta es la expresion de la linea recta:\n",
        "$$y = mx + b$$\n",
        "donde $x$ es la posición.\n"
      ],
      "metadata": {
        "id": "FKZMUXJLFouH"
      }
    },
    {
      "cell_type": "code",
      "source": [
        "# Comentarios"
      ],
      "metadata": {
        "id": "rxaCO2qWIFH6"
      },
      "execution_count": null,
      "outputs": []
    },
    {
      "cell_type": "code",
      "execution_count": 5,
      "metadata": {
        "colab": {
          "base_uri": "https://localhost:8080/"
        },
        "id": "FshsqSVaEpgp",
        "outputId": "b273d1d7-59c8-4e2b-ec9c-5d7a08d35ffb"
      },
      "outputs": [
        {
          "output_type": "stream",
          "name": "stdout",
          "text": [
            "Hello, Nicolas\n"
          ]
        }
      ],
      "source": [
        "# Mis primeras lineas de codigo en python\n",
        "name = \"Nicolas\"\n",
        "print(\"Hello,\", name)"
      ]
    },
    {
      "cell_type": "code",
      "source": [
        "# frase\n",
        "firstname = \"Nicolas\"\n",
        "lastname = \"Londoño Calle\"\n",
        "age = \"18\"\n",
        "city = \"Monteria\"\n",
        "food = \"Salchipapa\"\n",
        "print(\"mi nobre es\", firstname, lastname, \"y tengo\", age, \"años\", \"vivo en\", city, \"y me gusta\", food)"
      ],
      "metadata": {
        "colab": {
          "base_uri": "https://localhost:8080/"
        },
        "id": "rFo-QpPjTU9_",
        "outputId": "bd84457e-95aa-428f-d4e4-d7dd3ef9b0d1"
      },
      "execution_count": 11,
      "outputs": [
        {
          "output_type": "stream",
          "name": "stdout",
          "text": [
            "mi nobre es Nicolas Londoño Calle y tengo 18 años vivo en Monteria y me gusta Salchipapa\n"
          ]
        }
      ]
    }
  ]
}