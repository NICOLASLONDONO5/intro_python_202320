{
  "nbformat": 4,
  "nbformat_minor": 0,
  "metadata": {
    "colab": {
      "provenance": [],
      "authorship_tag": "ABX9TyM1y76sJzCCQWnqiGcaNxXD",
      "include_colab_link": true
    },
    "kernelspec": {
      "name": "python3",
      "display_name": "Python 3"
    },
    "language_info": {
      "name": "python"
    }
  },
  "cells": [
    {
      "cell_type": "markdown",
      "metadata": {
        "id": "view-in-github",
        "colab_type": "text"
      },
      "source": [
        "<a href=\"https://colab.research.google.com/github/NICOLASLONDONO5/intro_python_202320/blob/main/introduction_pynb.ipynb\" target=\"_parent\"><img src=\"https://colab.research.google.com/assets/colab-badge.svg\" alt=\"Open In Colab\"/></a>"
      ]
    },
    {
      "cell_type": "markdown",
      "source": [
        "# Introduccion a python\n",
        "## Curso de programacion y algoritmia UPB 202320\n",
        "- Nombre: Nicolas Londoño Calle\n",
        "- ID: 501355\n",
        "- Email: nicolas.londonoc@upb.edu.co\n",
        "\n",
        "Esta es la expresion de la linea recta:\n",
        "$$y = mx + b$$\n",
        "donde $x$ es la posición.\n"
      ],
      "metadata": {
        "id": "FKZMUXJLFouH"
      }
    },
    {
      "cell_type": "code",
      "execution_count": null,
      "metadata": {
        "id": "FshsqSVaEpgp"
      },
      "outputs": [],
      "source": []
    },
    {
      "cell_type": "code",
      "source": [],
      "metadata": {
        "id": "rxaCO2qWIFH6"
      },
      "execution_count": null,
      "outputs": []
    }
  ]
}