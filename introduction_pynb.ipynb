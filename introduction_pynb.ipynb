{
  "nbformat": 4,
  "nbformat_minor": 0,
  "metadata": {
    "colab": {
      "provenance": [],
      "authorship_tag": "ABX9TyOMJmHSpzPph4AOtrT1bG34",
      "include_colab_link": true
    },
    "kernelspec": {
      "name": "python3",
      "display_name": "Python 3"
    },
    "language_info": {
      "name": "python"
    }
  },
  "cells": [
    {
      "cell_type": "markdown",
      "metadata": {
        "id": "view-in-github",
        "colab_type": "text"
      },
      "source": [
        "<a href=\"https://colab.research.google.com/github/NICOLASLONDONO5/intro_python_202320/blob/main/introduction_pynb.ipynb\" target=\"_parent\"><img src=\"https://colab.research.google.com/assets/colab-badge.svg\" alt=\"Open In Colab\"/></a>"
      ]
    },
    {
      "cell_type": "markdown",
      "source": [
        "# Introduccion a python\n",
        "## Curso de programacion y algoritmia UPB 202320\n",
        "- Nombre: Nicolas Londoño Calle\n",
        "- ID: 501355\n",
        "- Email: nicolas.londonoc@upb.edu.co\n",
        "\n",
        "Esta es la expresion de la linea recta:\n",
        "$$y = mx + b$$\n",
        "donde $x$ es la posición.\n"
      ],
      "metadata": {
        "id": "FKZMUXJLFouH"
      }
    },
    {
      "cell_type": "code",
      "source": [
        "# Comentarios"
      ],
      "metadata": {
        "id": "rxaCO2qWIFH6"
      },
      "execution_count": null,
      "outputs": []
    },
    {
      "cell_type": "code",
      "execution_count": null,
      "metadata": {
        "colab": {
          "base_uri": "https://localhost:8080/"
        },
        "id": "FshsqSVaEpgp",
        "outputId": "b273d1d7-59c8-4e2b-ec9c-5d7a08d35ffb"
      },
      "outputs": [
        {
          "output_type": "stream",
          "name": "stdout",
          "text": [
            "Hello, Nicolas\n"
          ]
        }
      ],
      "source": [
        "# Mis primeras lineas de codigo en python\n",
        "name = \"Nicolas\"\n",
        "print(\"Hello,\", name)"
      ]
    },
    {
      "cell_type": "code",
      "source": [
        "# frase\n",
        "firstname = \"Nicolas\"\n",
        "lastname = \"Londoño Calle\"\n",
        "age = \"18\"\n",
        "city = \"Monteria\"\n",
        "food = \"Salchipapa\"\n",
        "print(\"mi nobre es\", firstname, lastname, \"y tengo\", age, \"años\", \"vivo en\", city, \"y me gusta\", food)"
      ],
      "metadata": {
        "colab": {
          "base_uri": "https://localhost:8080/"
        },
        "id": "rFo-QpPjTU9_",
        "outputId": "bd84457e-95aa-428f-d4e4-d7dd3ef9b0d1"
      },
      "execution_count": null,
      "outputs": [
        {
          "output_type": "stream",
          "name": "stdout",
          "text": [
            "mi nobre es Nicolas Londoño Calle y tengo 18 años vivo en Monteria y me gusta Salchipapa\n"
          ]
        }
      ]
    },
    {
      "cell_type": "code",
      "source": [
        "a = 3\n",
        "b = 4.5\n",
        "c = a + b\n",
        "print(type(a))\n",
        "print(type(b))\n",
        "print(c)\n",
        "c = c * a\n",
        "print(c)\n",
        "c = int(c / b)\n",
        "print(c)\n",
        "d = 0.3\n",
        "c += 0.3\n",
        "print(c)\n"
      ],
      "metadata": {
        "id": "ITMl_uCFap70",
        "outputId": "90ed958c-bf71-46c4-9c07-c95b38d98a89",
        "colab": {
          "base_uri": "https://localhost:8080/"
        }
      },
      "execution_count": 5,
      "outputs": [
        {
          "output_type": "stream",
          "name": "stdout",
          "text": [
            "<class 'int'>\n",
            "<class 'float'>\n",
            "7.5\n",
            "22.5\n",
            "5\n",
            "5.3\n"
          ]
        }
      ]
    },
    {
      "cell_type": "code",
      "source": [
        "m = 5\n",
        "b = 2\n",
        "x = -3\n",
        "y = m * x + b\n",
        "print(y)\n",
        "x = -2\n",
        "y = m * x + b\n",
        "print(y)\n",
        "x = -1\n",
        "y = m * x + b\n",
        "print(y)\n",
        "x = 0\n",
        "y = m * x + b\n",
        "print(y)\n",
        "x = 1\n",
        "y = m * x + b\n",
        "print(y)\n",
        "x = 2\n",
        "y = m * x + b\n",
        "print(y)\n",
        "x = 3\n",
        "y = m * x + b\n",
        "print(y)\n",
        "\n",
        "\n"
      ],
      "metadata": {
        "id": "LV1YgkaUeDiZ",
        "outputId": "48ad019e-52ff-482b-fe38-68508739da9d",
        "colab": {
          "base_uri": "https://localhost:8080/"
        }
      },
      "execution_count": 6,
      "outputs": [
        {
          "output_type": "stream",
          "name": "stdout",
          "text": [
            "-13\n",
            "-8\n",
            "-3\n",
            "2\n",
            "7\n",
            "12\n",
            "17\n"
          ]
        }
      ]
    },
    {
      "cell_type": "code",
      "source": [
        "a = 1\n",
        "b = 2\n",
        "c = -8\n",
        "\n",
        "disc = (b ** 2 - 4 * a * c) ** (1/2)\n",
        "x_p = (-b + disc) / (2 * a)\n",
        "x_n = (-b - disc) / (2 * a)\n",
        "print(\" x_p: \" , x_p)\n",
        "print(\" x_n:\" , x_n)\n",
        "\n",
        "a = -3\n",
        "b = 1\n",
        "c = 10\n",
        "\n",
        "disc = (b ** 2 - 4 * a * c) ** (1/2)\n",
        "x_p = (-b + disc) / (2 * a)\n",
        "x_n = (-b - disc) / (2 * a)\n",
        "print(\" x_p: \" , x_p)\n",
        "print(\" x_n:\" , x_n)\n",
        "\n",
        "a = 0.1\n",
        "b = -2\n",
        "c = 0.5\n",
        "\n",
        "disc = (b ** 2 - 4 * a * c) ** (1/2)\n",
        "x_p = (-b + disc) / (2 * a)\n",
        "x_n = (-b - disc) / (2 * a)\n",
        "print(\" x_p: \" , x_p)\n",
        "print(\" x_n:\" , x_n)\n",
        "\n",
        "\n",
        "\n",
        "\n"
      ],
      "metadata": {
        "id": "rsqUqR-uhpSZ",
        "outputId": "5c2e96b7-c910-47c3-caf2-fb53ee73b842",
        "colab": {
          "base_uri": "https://localhost:8080/"
        }
      },
      "execution_count": 10,
      "outputs": [
        {
          "output_type": "stream",
          "name": "stdout",
          "text": [
            " x_p:  2.0\n",
            " x_n: -4.0\n",
            " x_p:  -1.6666666666666667\n",
            " x_n: 2.0\n",
            " x_p:  19.74679434480896\n",
            " x_n: 0.25320565519103666\n"
          ]
        }
      ]
    },
    {
      "cell_type": "code",
      "source": [
        "firstname = \"Nicolas\"\n",
        "lastname = \"Londoño\"\n",
        "fullname = firstname + \" \" + lastname\n",
        "print(fullname)"
      ],
      "metadata": {
        "id": "FcHOfKonkoW4",
        "outputId": "f1e1d118-6962-4495-db2d-98f8eee1ee73",
        "colab": {
          "base_uri": "https://localhost:8080/"
        }
      },
      "execution_count": 11,
      "outputs": [
        {
          "output_type": "stream",
          "name": "stdout",
          "text": [
            "Nicolas Londoño\n"
          ]
        }
      ]
    },
    {
      "cell_type": "code",
      "source": [
        "song  = \"\"\"Un elefante se balanceaba\n",
        "sobre la tela de una araña\n",
        "como veia que no resistia\n",
        "se fue a buscar otra... oooooo\n",
        "fin.\n",
        "\n",
        "print(song)"
      ],
      "metadata": {
        "id": "lob346YqlSiW",
        "outputId": "f982dee5-c0f6-4da3-90ab-bf8a3573ea5b",
        "colab": {
          "base_uri": "https://localhost:8080/",
          "height": 140
        }
      },
      "execution_count": 31,
      "outputs": [
        {
          "output_type": "error",
          "ename": "SyntaxError",
          "evalue": "ignored",
          "traceback": [
            "\u001b[0;36m  File \u001b[0;32m\"<ipython-input-31-c25ded543fda>\"\u001b[0;36m, line \u001b[0;32m1\u001b[0m\n\u001b[0;31m    Song  = \"\"\"Un elefante se balanceaba\u001b[0m\n\u001b[0m            ^\u001b[0m\n\u001b[0;31mSyntaxError\u001b[0m\u001b[0;31m:\u001b[0m incomplete input\n"
          ]
        }
      ]
    },
    {
      "cell_type": "code",
      "source": [],
      "metadata": {
        "id": "tBMtcBRfnrdQ"
      },
      "execution_count": null,
      "outputs": []
    }
  ]
}